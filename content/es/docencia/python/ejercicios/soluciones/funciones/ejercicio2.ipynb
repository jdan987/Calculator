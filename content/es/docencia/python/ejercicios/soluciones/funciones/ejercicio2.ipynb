{
  "cells": [
    {
      "cell_type": "markdown",
      "metadata": {
        "id": "view-in-github",
        "colab_type": "text"
      },
      "source": [
        "<a href=\"https://colab.research.google.com/github/jdan987/Calculator/blob/main/content/es/docencia/python/ejercicios/soluciones/funciones/ejercicio2.ipynb\" target=\"_parent\"><img src=\"https://colab.research.google.com/assets/colab-badge.svg\" alt=\"Open In Colab\"/></a>"
      ]
    },
    {
      "cell_type": "markdown",
      "metadata": {
        "id": "xHD6Gs49KuWV"
      },
      "source": [
        "## Ejercicio\n",
        "\n",
        "Escribir una función a la que se le pase una cadena `<nombre>` y muestre por pantalla el saludo `¡hola <nombre>!`."
      ]
    },
    {
      "cell_type": "markdown",
      "metadata": {
        "id": "MAvsF5nfKuWZ"
      },
      "source": [
        "## Solución"
      ]
    },
    {
      "cell_type": "code",
      "source": [
        "name= input(\"Di tu nombre:\")\n",
        "def saludo():\n",
        "    return (f\"Hola!!! {name}\")\n",
        "print(saludo())"
      ],
      "metadata": {
        "id": "6kJg8POPKw2J",
        "outputId": "52a0f593-94fc-445c-cddc-166f4628822d",
        "colab": {
          "base_uri": "https://localhost:8080/"
        }
      },
      "execution_count": 1,
      "outputs": [
        {
          "output_type": "stream",
          "name": "stdout",
          "text": [
            "Di tu nombre:jesus\n",
            "Hola!!! jesus\n"
          ]
        }
      ]
    },
    {
      "cell_type": "code",
      "execution_count": null,
      "metadata": {
        "id": "cOXYwHNHKuWZ",
        "outputId": "e2565e5f-387f-4240-ae37-d897bef3d303"
      },
      "outputs": [
        {
          "name": "stdout",
          "output_type": "stream",
          "text": [
            "¡Hola Alf!\n",
            "¡Hola Python!\n"
          ]
        }
      ],
      "source": [
        "def greet(nombre):\n",
        "    \"\"\"Función que muestra un saludo por pantalla.\n",
        "    Parámetros\n",
        "    nombre: Nombre del usuario\n",
        "    Devuelve el saludo ¡Hola nombre!.\n",
        "    \"\"\"\n",
        "    print('¡Hola ' + nombre +'!')\n",
        "    return\n",
        "\n",
        "greet('Alf')\n",
        "greet('Python')"
      ]
    }
  ],
  "metadata": {
    "kernelspec": {
      "display_name": "Python 3",
      "language": "python",
      "name": "python3"
    },
    "language_info": {
      "codemirror_mode": {
        "name": "ipython",
        "version": 3
      },
      "file_extension": ".py",
      "mimetype": "text/x-python",
      "name": "python",
      "nbconvert_exporter": "python",
      "pygments_lexer": "ipython3",
      "version": "3.6.8"
    },
    "colab": {
      "provenance": [],
      "include_colab_link": true
    }
  },
  "nbformat": 4,
  "nbformat_minor": 0
}